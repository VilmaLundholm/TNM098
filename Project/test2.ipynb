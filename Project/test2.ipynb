{
 "cells": [
  {
   "cell_type": "code",
   "execution_count": 1,
   "metadata": {},
   "outputs": [
    {
     "ename": "ImportError",
     "evalue": "cannot import name 'ImageOverlay' from 'folium.plugins' (/Library/Frameworks/Python.framework/Versions/3.11/lib/python3.11/site-packages/folium/plugins/__init__.py)",
     "output_type": "error",
     "traceback": [
      "\u001b[0;31m---------------------------------------------------------------------------\u001b[0m",
      "\u001b[0;31mImportError\u001b[0m                               Traceback (most recent call last)",
      "Cell \u001b[0;32mIn[1], line 3\u001b[0m\n\u001b[1;32m      1\u001b[0m \u001b[38;5;28;01mimport\u001b[39;00m \u001b[38;5;21;01mpandas\u001b[39;00m \u001b[38;5;28;01mas\u001b[39;00m \u001b[38;5;21;01mpd\u001b[39;00m\n\u001b[1;32m      2\u001b[0m \u001b[38;5;28;01mimport\u001b[39;00m \u001b[38;5;21;01mfolium\u001b[39;00m\n\u001b[0;32m----> 3\u001b[0m \u001b[38;5;28;01mfrom\u001b[39;00m \u001b[38;5;21;01mfolium\u001b[39;00m\u001b[38;5;21;01m.\u001b[39;00m\u001b[38;5;21;01mplugins\u001b[39;00m \u001b[38;5;28;01mimport\u001b[39;00m ImageOverlay\n\u001b[1;32m      4\u001b[0m \u001b[38;5;28;01mimport\u001b[39;00m \u001b[38;5;21;01mgeopandas\u001b[39;00m \u001b[38;5;28;01mas\u001b[39;00m \u001b[38;5;21;01mgpd\u001b[39;00m\n\u001b[1;32m      6\u001b[0m \u001b[38;5;66;03m# Load the GPS data\u001b[39;00m\n",
      "\u001b[0;31mImportError\u001b[0m: cannot import name 'ImageOverlay' from 'folium.plugins' (/Library/Frameworks/Python.framework/Versions/3.11/lib/python3.11/site-packages/folium/plugins/__init__.py)"
     ]
    }
   ],
   "source": [
    "import pandas as pd\n",
    "\n",
    "# Load the data\n",
    "data = pd.read_csv('MC2/gps.csv')\n",
    "\n",
    "# Filter data for ID 35\n",
    "id_35_data = data[data['id'] == 35]\n",
    "\n",
    "import matplotlib.pyplot as plt\n",
    "import matplotlib.image as mpimg\n",
    "\n",
    "# Load the map image\n",
    "img = mpimg.imread('MC2/MC2-tourist.jpg')\n",
    "\n",
    "import matplotlib.pyplot as plt\n",
    "\n",
    "# Plot the map image\n",
    "fig, ax = plt.subplots(figsize=(10, 10))\n",
    "ax.imshow(img, extent=[24.85, 24.90, 36.05, 36.10])  # Adjust extent to fit your map\n",
    "\n",
    "# Plot the GPS trajectory\n",
    "ax.plot(id_35_data['long'], id_35_data['lat'], color='blue', linewidth=2, marker='o', markersize=5)\n",
    "\n",
    "# Add labels and title\n",
    "ax.set_title('Car Travel on Map')\n",
    "ax.set_xlabel('Longitude')\n",
    "ax.set_ylabel('Latitude')\n",
    "\n",
    "plt.show()\n"
   ]
  }
 ],
 "metadata": {
  "kernelspec": {
   "display_name": "Python 3",
   "language": "python",
   "name": "python3"
  },
  "language_info": {
   "codemirror_mode": {
    "name": "ipython",
    "version": 3
   },
   "file_extension": ".py",
   "mimetype": "text/x-python",
   "name": "python",
   "nbconvert_exporter": "python",
   "pygments_lexer": "ipython3",
   "version": "3.11.5"
  }
 },
 "nbformat": 4,
 "nbformat_minor": 2
}
