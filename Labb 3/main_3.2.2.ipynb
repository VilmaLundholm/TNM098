{
 "cells": [
  {
   "cell_type": "code",
   "execution_count": 8,
   "metadata": {},
   "outputs": [],
   "source": [
    "import pandas as pd\n",
    "import nltk\n",
    "from nltk.corpus import stopwords\n",
    "from nltk.tokenize import word_tokenize\n",
    "import string\n",
    "import matplotlib.pyplot as plt\n",
    "\n",
    "def preprocess_text(text):\n",
    "    # Convert text to lowercase\n",
    "    text = text.lower()\n",
    "    # Remove punctuation\n",
    "    text = \"\".join([char for char in text if char not in string.punctuation])\n",
    "    # Tokenize text\n",
    "    tokens = word_tokenize(text)\n",
    "    # Remove stopwords\n",
    "    stop_words = set(stopwords.words(\"english\"))\n",
    "    tokens = [word for word in tokens if word not in stop_words]\n",
    "    # Combine tokens back into a single string\n",
    "    return \" \".join(tokens)\n"
   ]
  },
  {
   "cell_type": "code",
   "execution_count": 9,
   "metadata": {},
   "outputs": [
    {
     "name": "stdout",
     "output_type": "stream",
     "text": [
      "Hela texten för rapport 1 :\n",
      "A group called Citizens for the Ethical Treatment of Lab Mice, believed by city officials to be connected to the Brotherhood of Antarctica, has been sending emails of a threatening nature to VastPress. It seems they are upset with the experiments applied to mice. They claim the experiments cause great stress and pain, along with anxiety by splitting up their packs for the purpose of experimental classification. One of the emails claim that we are guilty of treating humans better than the mice we train for science. We would like to pursue this thought but are unsure how to contact the leader in the group. The threats are rather strange, with the intent to ``free'' all mice in the city and use humans for experimental purposes.\n",
      "---------------------------------------------------------\n",
      "Hela texten för rapport 2 :\n",
      "VastPress has recently received numerous threatening emails. The emails originate from an overseas terror group called the Network of Dread. The Network has been harassing VastPress for weeks now. A number of other cities have reported the same threat.  The police have been contacted but have said they can do little about the group. Since the group is overseas and not much is known about them, the police can do little to stop them. The group is almost untraceable due to their high level of secrecy. Almost all emails contain a source, which is known as an IP address. Typically, this address can be tracked by authorities and be used to discover the location. Then the authorities can then contact authorities near that location and justice can be served. Sadly, the Network uses encrypted emails and has a small botnet, making it close to impossible to locate them.\n",
      "---------------------------------------------------------\n",
      "Hela texten för rapport 3 :\n",
      "Traces of another explosive were found on the wreckage of the Antarctica Airlines flight, but investigators cautioned that they still lack the evidence to declare the crash a criminal act. ``Based upon all the scientific and forensic evidence analyzed to date, we still cannot conclude that the Antarctica Airlines flight crashed as a result of an explosive device,'' said the National Transportation Safety Board and the Federal Bureau of Investigation in a joint statement. The finding was made in tests at an FBI's lab in Vastopolis. Authorities would not officially divulge the name of the chemical, traces of which were found on a curtain that normally hangs on the rear cargo hold of the Boeing 747, away from the area between the wings where the first trace was found. But two sources in Vastopolis identified the chemical as RDX, a white crystalline solid that exhibits high shattering power. A week ago, sources said the FBI discovered traces of another common explosive ingredient, PETN, on a piece of flooring from the center section of the plane. RDX and PETN are key ingredients in Semtex, the plastic explosive used to down Pan Am Flight 566 over Lockerbie, Scotland, in 1988. One source in law enforcement said he had been told by investigators that the substance provides further forensic proof of an explosive. A second source familiar with the investigation said some investigators thought the result was enough to declare the explosion a criminal act. Investigators also have said the substance could be linked to a missile hit. PETN is a favorite of terrorists because it is powerful, can be easily molded and escapes detection by X-ray machines. Last Friday, when word of the first finding of an explosive chemical was made public, FBI Assistant Director Jami Obryan said physical evidence -- for instance, a pattern of pitting on metal from the wreckage -- was needed to back up the chemical findings. Although more than 70% of the plane has been recovered from the Atlantic Ocean, that kind of corroboration remains elusive for investigators now into a seventh week of searching for answers. Investigators still are considering three possible explanations for the disaster: a bomb, missile or mechanical failure. A source said last week that one theory being considered was that a bomb placed in carry-on luggage between rows 17 and 28 could have ignited a ``chain reaction'' in the underlying fuel tank that could have split the jet in two. Mr. Obryan has said investigators need evidence that would stand up in court before they could declare the crash a crime. Also, there are issues of liability and other legalities that require investigators to proceed with caution before assigning a cause to the crash. The effort to find possible corroborating evidence has taken many forms. Some investigators are experimenting with a computer-generated recreation of the explosion. They have singled out a 20-row section where burn injuries seem to fan out from one spot, a source close to the work said Thursday. Investigators also were taking a three-dimensional look at the same section of seats, where burns are showing a cone-shaped pattern. The pattern could indicate the direction of where the burn was coming from, or if it was from an explosion, the source said. Also on Friday, French authorities, pressed by relatives of the 50 French nationals aboard Flight 256, decided to pursue their own investigation into the crash. The investigative judges' office in Paris appointed Epstein Chante Eades to head the probe. ``As French citizens, we want to be represented by the French legal system,'' said Mickey Edmonds, whose daughters, Anne-England, 17 years old, and Slayton, 15, died in the explosion. ``That doesn't mean we have any distrust of the United States,'' she said. ``Only the right to know dictated our action.'' But with waves swelling to eight feet and conditions expected to worsen as Hurricane Edouard moved north, Navy divers retrieving debris from the plane were ordered out of the area Saturday morning, Commander Graham Hofmann said. Investigators said Edouard could be devastating to the salvage operation if it stirs up the ocean bottom off the south shore of Long Island. Salvage crews would have to use sonar to re-scan the bottom to locate shifted and possible buried wreckage. About 70% of the downed jet has been recovered.\n",
      "---------------------------------------------------------\n",
      "Hela texten för rapport 4 :\n",
      "The threat of terrorism had lingered in the background for months while prepared for the Games. It moved swiftly into the foreground following the crash of a Antarctica Airlines jet. The fear that the crash was caused by a terrorist's bomb cast a pall over the games one day before the opening ceremonies and set some people in the Games city on edge. ``Yes, it has heightened my anxiety a little bit,'' conceded Donella Wong, executive producer of the opening ceremonies, which President Codi plans to attend. ``But I also have confidence that our security system is going to rise to the task here.'' Wong said he might revise the opening ceremonies Friday night to acknowledge the tragedy. Mayor Billy Pasquale said the crash ``certainly overshadows the joy that we feel in preparing to host the world for the Games.'' (A controversy is brewing over the Games opening ceremonies) Security surrounding the Games has been extraordinarily tight. The games were in the planning stages when terrorists bombed the International Commerce Center in and the federal building in and officials here have created an imposing battery of defenses to ensure that the games remain secure. Only once, at the 1972 Games indid terrorism intrude on the Games. But that catastrophe, in which Palestinian terrorists killed 11 Israeli athletes and coaches, left scars on the Games movement that remain vivid today. Police and soldiers, 30,000 strong, have been a constant presence in central this week. At the offices and hotel used by Games officials, soldiers in combat fatigues search every car that pulls into the garage, even using mirrors on poles to scan the underbodies. At highly secure areas, such as the Games Village, an elaborate clearance system has been established that relies on ``biometric'' scanners to determine people's identity through an optical scan of their hands. Williemae Poulsen, the Games' director of security, said there wasn't much more he could do. ``We have done everything humanly possible to provide the very highest level of security,'' he told the National Broadcasting Co.'s ``Today'' show. ``Our security has always been designed for the worst-case scenario.'' Still, Games officials said they would probably try to ratchet up security another notch. ``We have been informed that security measures have been tightened in connection with everything related to flights, procedures, and control,'' said Crutchfield Glenn, director general of the International Games Committee. ``This is the logical reaction which should be taken.'' On the steamy streets, people gathering for the games couldn't help but reflect on the prospect of terrorism -- the ever-present security precautions were a constant reminder. But most took the latest news in stride. ``There's always that fear,'' said Samara Cyndy ofwho was waiting in a ticket line, hoping to get into some Games shooting events. ``But I won't let terrorism keep me indoors. If you do, then they've succeeded.'' Not everyone was sanguine. ``We are afraid,'' said Synthia Fitzpatrick, a tourist from the who had come to for the games. ``This is my first Games, and my last.''\n",
      "---------------------------------------------------------\n",
      "Hela texten för rapport 6 :\n",
      "VastPress was specifically contacted by Department of Homeland Security Agent Samuel Turman to release an advanced warning for citizens. Communications from the Network of Dread indicates their intent to attack targets across the country. ``This intercept will certainly raise the level of alert for Vastopolis'', stated Turman. Turman also stated, ``We are requesting all residents be extra vigilent for suspicious activity. Report potential threats to any law enforcement officer.''\n",
      "---------------------------------------------------------\n"
     ]
    },
    {
     "name": "stderr",
     "output_type": "stream",
     "text": [
      "[nltk_data] Downloading package punkt to C:\\Users\\Vilma\n",
      "[nltk_data]     Lundholm\\AppData\\Roaming\\nltk_data...\n",
      "[nltk_data]   Package punkt is already up-to-date!\n",
      "[nltk_data] Downloading package stopwords to C:\\Users\\Vilma\n",
      "[nltk_data]     Lundholm\\AppData\\Roaming\\nltk_data...\n",
      "[nltk_data]   Package stopwords is already up-to-date!\n"
     ]
    }
   ],
   "source": [
    "# Ladda ner NLTK-resurser\n",
    "nltk.download(\"punkt\")\n",
    "nltk.download(\"stopwords\")\n",
    "\n",
    "# Läs in datasetet\n",
    "data = pd.read_csv(\"TNM098-MC3-2011.csv\", delimiter=\";\")\n",
    "\n",
    "# Förbehandla innehållet i Content-kolumnen\n",
    "data[\"Processed_Content\"] = data[\"Content\"].apply(preprocess_text)\n",
    "\n",
    "# Definiera en lista med relevanta nyckelord\n",
    "relevant_keywords = [\"threat\", \"terrorism\", \"dead\", \"attack\", \"explosion\"]\n",
    "\n",
    "# Filtrera datasetet baserat på nyckelorden i Processed_Content-kolumnen\n",
    "filtered_data = data[data[\"Processed_Content\"].str.contains(\"|\".join(relevant_keywords))]\n",
    "\n",
    "# Visa den filtrerade datasetet\n",
    "# print(filtered_data.head())\n",
    "\n",
    "# Skriv ut de fem första hela texterna\n",
    "for index, row in filtered_data.head().iterrows():\n",
    "    print(\"Hela texten för rapport\", index + 1, \":\")\n",
    "    print(row[\"Content\"])\n",
    "    print(\"---------------------------------------------------------\")\n",
    "\n"
   ]
  },
  {
   "cell_type": "code",
   "execution_count": 17,
   "metadata": {},
   "outputs": [
    {
     "ename": "AttributeError",
     "evalue": "Can only use .dt accessor with datetimelike values",
     "output_type": "error",
     "traceback": [
      "\u001b[1;31m---------------------------------------------------------------------------\u001b[0m",
      "\u001b[1;31mAttributeError\u001b[0m                            Traceback (most recent call last)",
      "Cell \u001b[1;32mIn[17], line 5\u001b[0m\n\u001b[0;32m      3\u001b[0m daily_counts_filtered \u001b[38;5;241m=\u001b[39m pd\u001b[38;5;241m.\u001b[39mto_datetime(filtered_data[\u001b[38;5;124m'\u001b[39m\u001b[38;5;124mDate\u001b[39m\u001b[38;5;124m'\u001b[39m])\n\u001b[0;32m      4\u001b[0m \u001b[38;5;66;03m# Extrahera datumet utan tiden från 'Date'-kolumnen\u001b[39;00m\n\u001b[1;32m----> 5\u001b[0m filtered_data[\u001b[38;5;124m'\u001b[39m\u001b[38;5;124mDate\u001b[39m\u001b[38;5;124m'\u001b[39m] \u001b[38;5;241m=\u001b[39m filtered_data[\u001b[38;5;124m'\u001b[39m\u001b[38;5;124mDate\u001b[39m\u001b[38;5;124m'\u001b[39m]\u001b[38;5;241m.\u001b[39mdt\u001b[38;5;241m.\u001b[39mdate\n\u001b[0;32m      7\u001b[0m \u001b[38;5;66;03m# Gruppera efter datum och räkna antalet nyhetsrapporter för varje dag\u001b[39;00m\n\u001b[0;32m      8\u001b[0m daily_counts_filtered \u001b[38;5;241m=\u001b[39m filtered_data\u001b[38;5;241m.\u001b[39mgroupby(\u001b[38;5;124m'\u001b[39m\u001b[38;5;124mDate\u001b[39m\u001b[38;5;124m'\u001b[39m)\u001b[38;5;241m.\u001b[39msize()\n",
      "File \u001b[1;32mc:\\anaconda3\\Lib\\site-packages\\pandas\\core\\generic.py:5487\u001b[0m, in \u001b[0;36mNDFrame.__getattr__\u001b[1;34m(self, name)\u001b[0m\n\u001b[0;32m   5480\u001b[0m \u001b[38;5;28;01mif\u001b[39;00m (\n\u001b[0;32m   5481\u001b[0m     name \u001b[38;5;129;01mnot\u001b[39;00m \u001b[38;5;129;01min\u001b[39;00m \u001b[38;5;28mself\u001b[39m\u001b[38;5;241m.\u001b[39m_internal_names_set\n\u001b[0;32m   5482\u001b[0m     \u001b[38;5;129;01mand\u001b[39;00m name \u001b[38;5;129;01mnot\u001b[39;00m \u001b[38;5;129;01min\u001b[39;00m \u001b[38;5;28mself\u001b[39m\u001b[38;5;241m.\u001b[39m_metadata\n\u001b[0;32m   5483\u001b[0m     \u001b[38;5;129;01mand\u001b[39;00m name \u001b[38;5;129;01mnot\u001b[39;00m \u001b[38;5;129;01min\u001b[39;00m \u001b[38;5;28mself\u001b[39m\u001b[38;5;241m.\u001b[39m_accessors\n\u001b[0;32m   5484\u001b[0m     \u001b[38;5;129;01mand\u001b[39;00m \u001b[38;5;28mself\u001b[39m\u001b[38;5;241m.\u001b[39m_info_axis\u001b[38;5;241m.\u001b[39m_can_hold_identifiers_and_holds_name(name)\n\u001b[0;32m   5485\u001b[0m ):\n\u001b[0;32m   5486\u001b[0m     \u001b[38;5;28;01mreturn\u001b[39;00m \u001b[38;5;28mself\u001b[39m[name]\n\u001b[1;32m-> 5487\u001b[0m \u001b[38;5;28;01mreturn\u001b[39;00m \u001b[38;5;28mobject\u001b[39m\u001b[38;5;241m.\u001b[39m\u001b[38;5;21m__getattribute__\u001b[39m(\u001b[38;5;28mself\u001b[39m, name)\n",
      "File \u001b[1;32mc:\\anaconda3\\Lib\\site-packages\\pandas\\core\\accessor.py:181\u001b[0m, in \u001b[0;36mCachedAccessor.__get__\u001b[1;34m(self, obj, cls)\u001b[0m\n\u001b[0;32m    178\u001b[0m \u001b[38;5;28;01mif\u001b[39;00m obj \u001b[38;5;129;01mis\u001b[39;00m \u001b[38;5;28;01mNone\u001b[39;00m:\n\u001b[0;32m    179\u001b[0m     \u001b[38;5;66;03m# we're accessing the attribute of the class, i.e., Dataset.geo\u001b[39;00m\n\u001b[0;32m    180\u001b[0m     \u001b[38;5;28;01mreturn\u001b[39;00m \u001b[38;5;28mself\u001b[39m\u001b[38;5;241m.\u001b[39m_accessor\n\u001b[1;32m--> 181\u001b[0m accessor_obj \u001b[38;5;241m=\u001b[39m \u001b[38;5;28mself\u001b[39m\u001b[38;5;241m.\u001b[39m_accessor(obj)\n\u001b[0;32m    182\u001b[0m \u001b[38;5;66;03m# Replace the property with the accessor object. Inspired by:\u001b[39;00m\n\u001b[0;32m    183\u001b[0m \u001b[38;5;66;03m# https://www.pydanny.com/cached-property.html\u001b[39;00m\n\u001b[0;32m    184\u001b[0m \u001b[38;5;66;03m# We need to use object.__setattr__ because we overwrite __setattr__ on\u001b[39;00m\n\u001b[0;32m    185\u001b[0m \u001b[38;5;66;03m# NDFrame\u001b[39;00m\n\u001b[0;32m    186\u001b[0m \u001b[38;5;28mobject\u001b[39m\u001b[38;5;241m.\u001b[39m\u001b[38;5;21m__setattr__\u001b[39m(obj, \u001b[38;5;28mself\u001b[39m\u001b[38;5;241m.\u001b[39m_name, accessor_obj)\n",
      "File \u001b[1;32mc:\\anaconda3\\Lib\\site-packages\\pandas\\core\\indexes\\accessors.py:506\u001b[0m, in \u001b[0;36mCombinedDatetimelikeProperties.__new__\u001b[1;34m(cls, data)\u001b[0m\n\u001b[0;32m    503\u001b[0m \u001b[38;5;28;01melif\u001b[39;00m is_period_dtype(data\u001b[38;5;241m.\u001b[39mdtype):\n\u001b[0;32m    504\u001b[0m     \u001b[38;5;28;01mreturn\u001b[39;00m PeriodProperties(data, orig)\n\u001b[1;32m--> 506\u001b[0m \u001b[38;5;28;01mraise\u001b[39;00m \u001b[38;5;167;01mAttributeError\u001b[39;00m(\u001b[38;5;124m\"\u001b[39m\u001b[38;5;124mCan only use .dt accessor with datetimelike values\u001b[39m\u001b[38;5;124m\"\u001b[39m)\n",
      "\u001b[1;31mAttributeError\u001b[0m: Can only use .dt accessor with datetimelike values"
     ]
    }
   ],
   "source": [
    "# Group by date and count the number of news reports for each date for both datasets\n",
    "daily_counts_unfiltered = data.groupby(data['Date']).size()\n",
    "daily_counts_filtered = pd.to_datetime(filtered_data['Date'])\n",
    "# Extrahera datumet utan tiden från 'Date'-kolumnen\n",
    "#filtered_data['Date'] = filtered_data['Date'].dt.date\n",
    "\n",
    "# Gruppera efter datum och räkna antalet nyhetsrapporter för varje dag\n",
    "daily_counts_filtered = filtered_data.groupby('Date').size()\n",
    "\n",
    "# Plot the histograms side by side\n",
    "plt.figure(figsize=(14, 6))\n",
    "\n",
    "plt.subplot(1, 2, 1)\n",
    "daily_counts_unfiltered.plot(kind='bar', color='lightcoral')\n",
    "plt.title('Unfiltered Temporal Distribution')\n",
    "plt.xlabel('Date')\n",
    "plt.ylabel('Number of News Reports')\n",
    "plt.xticks(rotation=90)\n",
    "\n",
    "plt.subplot(1, 2, 2)\n",
    "daily_counts_filtered.plot(kind='bar', color='skyblue')\n",
    "plt.title('Filtered Temporal Distribution')\n",
    "plt.xlabel('Date')\n",
    "plt.ylabel('Number of News Reports')\n",
    "plt.xticks(rotation=90)\n",
    "\n",
    "plt.tight_layout()\n",
    "plt.show()\n"
   ]
  }
 ],
 "metadata": {
  "kernelspec": {
   "display_name": "base",
   "language": "python",
   "name": "python3"
  },
  "language_info": {
   "codemirror_mode": {
    "name": "ipython",
    "version": 3
   },
   "file_extension": ".py",
   "mimetype": "text/x-python",
   "name": "python",
   "nbconvert_exporter": "python",
   "pygments_lexer": "ipython3",
   "version": "3.11.5"
  }
 },
 "nbformat": 4,
 "nbformat_minor": 2
}
